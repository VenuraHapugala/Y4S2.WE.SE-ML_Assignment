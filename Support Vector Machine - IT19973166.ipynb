{
 "cells": [
  {
   "cell_type": "markdown",
   "id": "6a376948",
   "metadata": {},
   "source": [
    "# Support Vector Machine Based Diabetes Prediction"
   ]
  },
  {
   "cell_type": "markdown",
   "id": "a37ab57e",
   "metadata": {},
   "source": [
    "## 1. Importing of the dependencies and libraries required"
   ]
  },
  {
   "cell_type": "code",
   "execution_count": 1,
   "id": "4938c11f",
   "metadata": {},
   "outputs": [],
   "source": [
    "import warnings\n",
    "warnings.filterwarnings('ignore')\n",
    "\n",
    "import pandas as pd\n",
    "import numpy as np\n",
    "import matplotlib.pyplot as plt\n",
    "\n",
    "#importing the encoder libraries\n",
    "from sklearn import preprocessing\n",
    "from sklearn.preprocessing import StandardScaler\n",
    "\n",
    "#importing the feature selection libraries\n",
    "import statsmodels.api as sm\n",
    "\n",
    "#importing the sklearn support vector machine model\n",
    "from sklearn import svm\n",
    "\n",
    "#importing sklearn train test split library\n",
    "from sklearn.model_selection import train_test_split\n",
    "\n",
    "#import the performace evaluation matrices\n",
    "from sklearn.metrics import accuracy_score\n",
    "from sklearn.metrics import classification_report\n",
    "from sklearn.metrics import plot_confusion_matrix"
   ]
  },
  {
   "cell_type": "markdown",
   "id": "c7993cc4",
   "metadata": {},
   "source": [
    "## 2. Retrieval of the data"
   ]
  },
  {
   "cell_type": "code",
   "execution_count": 2,
   "id": "e1d671d6",
   "metadata": {},
   "outputs": [],
   "source": [
    "#Loading of the data in dataset into a datafram using panda\n",
    "preg_diab_df=pd.read_csv(\"diabetes.csv\")"
   ]
  },
  {
   "cell_type": "markdown",
   "id": "54d02dd5",
   "metadata": {},
   "source": [
    "## 3. Preprocessing of the data"
   ]
  },
  {
   "cell_type": "code",
   "execution_count": 3,
   "id": "1ed8e575",
   "metadata": {},
   "outputs": [
    {
     "data": {
      "text/html": [
       "<div>\n",
       "<style scoped>\n",
       "    .dataframe tbody tr th:only-of-type {\n",
       "        vertical-align: middle;\n",
       "    }\n",
       "\n",
       "    .dataframe tbody tr th {\n",
       "        vertical-align: top;\n",
       "    }\n",
       "\n",
       "    .dataframe thead th {\n",
       "        text-align: right;\n",
       "    }\n",
       "</style>\n",
       "<table border=\"1\" class=\"dataframe\">\n",
       "  <thead>\n",
       "    <tr style=\"text-align: right;\">\n",
       "      <th></th>\n",
       "      <th>Pregnancies</th>\n",
       "      <th>Glucose</th>\n",
       "      <th>BloodPressure</th>\n",
       "      <th>SkinThickness</th>\n",
       "      <th>Insulin</th>\n",
       "      <th>BMI</th>\n",
       "      <th>DiabetesPedigreeFunction</th>\n",
       "      <th>Age</th>\n",
       "      <th>Outcome</th>\n",
       "    </tr>\n",
       "  </thead>\n",
       "  <tbody>\n",
       "    <tr>\n",
       "      <th>0</th>\n",
       "      <td>6</td>\n",
       "      <td>148</td>\n",
       "      <td>72</td>\n",
       "      <td>35</td>\n",
       "      <td>0</td>\n",
       "      <td>33.6</td>\n",
       "      <td>0.627</td>\n",
       "      <td>50</td>\n",
       "      <td>1</td>\n",
       "    </tr>\n",
       "    <tr>\n",
       "      <th>1</th>\n",
       "      <td>1</td>\n",
       "      <td>85</td>\n",
       "      <td>66</td>\n",
       "      <td>29</td>\n",
       "      <td>0</td>\n",
       "      <td>26.6</td>\n",
       "      <td>0.351</td>\n",
       "      <td>31</td>\n",
       "      <td>0</td>\n",
       "    </tr>\n",
       "    <tr>\n",
       "      <th>2</th>\n",
       "      <td>8</td>\n",
       "      <td>183</td>\n",
       "      <td>64</td>\n",
       "      <td>0</td>\n",
       "      <td>0</td>\n",
       "      <td>23.3</td>\n",
       "      <td>0.672</td>\n",
       "      <td>32</td>\n",
       "      <td>1</td>\n",
       "    </tr>\n",
       "    <tr>\n",
       "      <th>3</th>\n",
       "      <td>1</td>\n",
       "      <td>89</td>\n",
       "      <td>66</td>\n",
       "      <td>23</td>\n",
       "      <td>94</td>\n",
       "      <td>28.1</td>\n",
       "      <td>0.167</td>\n",
       "      <td>21</td>\n",
       "      <td>0</td>\n",
       "    </tr>\n",
       "    <tr>\n",
       "      <th>4</th>\n",
       "      <td>0</td>\n",
       "      <td>137</td>\n",
       "      <td>40</td>\n",
       "      <td>35</td>\n",
       "      <td>168</td>\n",
       "      <td>43.1</td>\n",
       "      <td>2.288</td>\n",
       "      <td>33</td>\n",
       "      <td>1</td>\n",
       "    </tr>\n",
       "  </tbody>\n",
       "</table>\n",
       "</div>"
      ],
      "text/plain": [
       "   Pregnancies  Glucose  BloodPressure  SkinThickness  Insulin   BMI  \\\n",
       "0            6      148             72             35        0  33.6   \n",
       "1            1       85             66             29        0  26.6   \n",
       "2            8      183             64              0        0  23.3   \n",
       "3            1       89             66             23       94  28.1   \n",
       "4            0      137             40             35      168  43.1   \n",
       "\n",
       "   DiabetesPedigreeFunction  Age  Outcome  \n",
       "0                     0.627   50        1  \n",
       "1                     0.351   31        0  \n",
       "2                     0.672   32        1  \n",
       "3                     0.167   21        0  \n",
       "4                     2.288   33        1  "
      ]
     },
     "execution_count": 3,
     "metadata": {},
     "output_type": "execute_result"
    }
   ],
   "source": [
    "#viewing the first five rows in the created dataframe\n",
    "preg_diab_df.head()"
   ]
  },
  {
   "cell_type": "code",
   "execution_count": 4,
   "id": "28c0f48d",
   "metadata": {},
   "outputs": [
    {
     "data": {
      "text/plain": [
       "(768, 9)"
      ]
     },
     "execution_count": 4,
     "metadata": {},
     "output_type": "execute_result"
    }
   ],
   "source": [
    "#viewing the no of rows and no of columns available\n",
    "preg_diab_df.shape"
   ]
  },
  {
   "cell_type": "code",
   "execution_count": 5,
   "id": "20fec8e5",
   "metadata": {},
   "outputs": [
    {
     "data": {
      "text/plain": [
       "Pregnancies                 0\n",
       "Glucose                     0\n",
       "BloodPressure               0\n",
       "SkinThickness               0\n",
       "Insulin                     0\n",
       "BMI                         0\n",
       "DiabetesPedigreeFunction    0\n",
       "Age                         0\n",
       "Outcome                     0\n",
       "dtype: int64"
      ]
     },
     "execution_count": 5,
     "metadata": {},
     "output_type": "execute_result"
    }
   ],
   "source": [
    "#checking for avaialability of null values within the columns\n",
    "preg_diab_df.isna().sum()"
   ]
  },
  {
   "cell_type": "code",
   "execution_count": 6,
   "id": "a87758a5",
   "metadata": {},
   "outputs": [
    {
     "data": {
      "text/plain": [
       "False"
      ]
     },
     "execution_count": 6,
     "metadata": {},
     "output_type": "execute_result"
    }
   ],
   "source": [
    "#checking for the avaialbility of any duplicates\n",
    "preg_diab_df.duplicated().any()"
   ]
  },
  {
   "cell_type": "code",
   "execution_count": 7,
   "id": "fb830e2c",
   "metadata": {},
   "outputs": [
    {
     "name": "stdout",
     "output_type": "stream",
     "text": [
      "<class 'pandas.core.frame.DataFrame'>\n",
      "RangeIndex: 768 entries, 0 to 767\n",
      "Data columns (total 9 columns):\n",
      " #   Column                    Non-Null Count  Dtype  \n",
      "---  ------                    --------------  -----  \n",
      " 0   Pregnancies               768 non-null    int64  \n",
      " 1   Glucose                   768 non-null    int64  \n",
      " 2   BloodPressure             768 non-null    int64  \n",
      " 3   SkinThickness             768 non-null    int64  \n",
      " 4   Insulin                   768 non-null    int64  \n",
      " 5   BMI                       768 non-null    float64\n",
      " 6   DiabetesPedigreeFunction  768 non-null    float64\n",
      " 7   Age                       768 non-null    int64  \n",
      " 8   Outcome                   768 non-null    int64  \n",
      "dtypes: float64(2), int64(7)\n",
      "memory usage: 54.1 KB\n"
     ]
    }
   ],
   "source": [
    "#checking whether the numerical values are interger or float values\n",
    "preg_diab_df.info()"
   ]
  },
  {
   "cell_type": "code",
   "execution_count": 8,
   "id": "6240dccc",
   "metadata": {},
   "outputs": [
    {
     "data": {
      "text/html": [
       "<div>\n",
       "<style scoped>\n",
       "    .dataframe tbody tr th:only-of-type {\n",
       "        vertical-align: middle;\n",
       "    }\n",
       "\n",
       "    .dataframe tbody tr th {\n",
       "        vertical-align: top;\n",
       "    }\n",
       "\n",
       "    .dataframe thead th {\n",
       "        text-align: right;\n",
       "    }\n",
       "</style>\n",
       "<table border=\"1\" class=\"dataframe\">\n",
       "  <thead>\n",
       "    <tr style=\"text-align: right;\">\n",
       "      <th></th>\n",
       "      <th>Pregnancies</th>\n",
       "      <th>Glucose</th>\n",
       "      <th>BloodPressure</th>\n",
       "      <th>SkinThickness</th>\n",
       "      <th>Insulin</th>\n",
       "      <th>BMI</th>\n",
       "      <th>DiabetesPedigreeFunction</th>\n",
       "      <th>Age</th>\n",
       "      <th>Outcome</th>\n",
       "    </tr>\n",
       "  </thead>\n",
       "  <tbody>\n",
       "    <tr>\n",
       "      <th>count</th>\n",
       "      <td>768.000000</td>\n",
       "      <td>768.000000</td>\n",
       "      <td>768.000000</td>\n",
       "      <td>768.000000</td>\n",
       "      <td>768.000000</td>\n",
       "      <td>768.000000</td>\n",
       "      <td>768.000000</td>\n",
       "      <td>768.000000</td>\n",
       "      <td>768.000000</td>\n",
       "    </tr>\n",
       "    <tr>\n",
       "      <th>mean</th>\n",
       "      <td>3.845052</td>\n",
       "      <td>120.894531</td>\n",
       "      <td>69.105469</td>\n",
       "      <td>20.536458</td>\n",
       "      <td>79.799479</td>\n",
       "      <td>31.992578</td>\n",
       "      <td>0.471876</td>\n",
       "      <td>33.240885</td>\n",
       "      <td>0.348958</td>\n",
       "    </tr>\n",
       "    <tr>\n",
       "      <th>std</th>\n",
       "      <td>3.369578</td>\n",
       "      <td>31.972618</td>\n",
       "      <td>19.355807</td>\n",
       "      <td>15.952218</td>\n",
       "      <td>115.244002</td>\n",
       "      <td>7.884160</td>\n",
       "      <td>0.331329</td>\n",
       "      <td>11.760232</td>\n",
       "      <td>0.476951</td>\n",
       "    </tr>\n",
       "    <tr>\n",
       "      <th>min</th>\n",
       "      <td>0.000000</td>\n",
       "      <td>0.000000</td>\n",
       "      <td>0.000000</td>\n",
       "      <td>0.000000</td>\n",
       "      <td>0.000000</td>\n",
       "      <td>0.000000</td>\n",
       "      <td>0.078000</td>\n",
       "      <td>21.000000</td>\n",
       "      <td>0.000000</td>\n",
       "    </tr>\n",
       "    <tr>\n",
       "      <th>25%</th>\n",
       "      <td>1.000000</td>\n",
       "      <td>99.000000</td>\n",
       "      <td>62.000000</td>\n",
       "      <td>0.000000</td>\n",
       "      <td>0.000000</td>\n",
       "      <td>27.300000</td>\n",
       "      <td>0.243750</td>\n",
       "      <td>24.000000</td>\n",
       "      <td>0.000000</td>\n",
       "    </tr>\n",
       "    <tr>\n",
       "      <th>50%</th>\n",
       "      <td>3.000000</td>\n",
       "      <td>117.000000</td>\n",
       "      <td>72.000000</td>\n",
       "      <td>23.000000</td>\n",
       "      <td>30.500000</td>\n",
       "      <td>32.000000</td>\n",
       "      <td>0.372500</td>\n",
       "      <td>29.000000</td>\n",
       "      <td>0.000000</td>\n",
       "    </tr>\n",
       "    <tr>\n",
       "      <th>75%</th>\n",
       "      <td>6.000000</td>\n",
       "      <td>140.250000</td>\n",
       "      <td>80.000000</td>\n",
       "      <td>32.000000</td>\n",
       "      <td>127.250000</td>\n",
       "      <td>36.600000</td>\n",
       "      <td>0.626250</td>\n",
       "      <td>41.000000</td>\n",
       "      <td>1.000000</td>\n",
       "    </tr>\n",
       "    <tr>\n",
       "      <th>max</th>\n",
       "      <td>17.000000</td>\n",
       "      <td>199.000000</td>\n",
       "      <td>122.000000</td>\n",
       "      <td>99.000000</td>\n",
       "      <td>846.000000</td>\n",
       "      <td>67.100000</td>\n",
       "      <td>2.420000</td>\n",
       "      <td>81.000000</td>\n",
       "      <td>1.000000</td>\n",
       "    </tr>\n",
       "  </tbody>\n",
       "</table>\n",
       "</div>"
      ],
      "text/plain": [
       "       Pregnancies     Glucose  BloodPressure  SkinThickness     Insulin  \\\n",
       "count   768.000000  768.000000     768.000000     768.000000  768.000000   \n",
       "mean      3.845052  120.894531      69.105469      20.536458   79.799479   \n",
       "std       3.369578   31.972618      19.355807      15.952218  115.244002   \n",
       "min       0.000000    0.000000       0.000000       0.000000    0.000000   \n",
       "25%       1.000000   99.000000      62.000000       0.000000    0.000000   \n",
       "50%       3.000000  117.000000      72.000000      23.000000   30.500000   \n",
       "75%       6.000000  140.250000      80.000000      32.000000  127.250000   \n",
       "max      17.000000  199.000000     122.000000      99.000000  846.000000   \n",
       "\n",
       "              BMI  DiabetesPedigreeFunction         Age     Outcome  \n",
       "count  768.000000                768.000000  768.000000  768.000000  \n",
       "mean    31.992578                  0.471876   33.240885    0.348958  \n",
       "std      7.884160                  0.331329   11.760232    0.476951  \n",
       "min      0.000000                  0.078000   21.000000    0.000000  \n",
       "25%     27.300000                  0.243750   24.000000    0.000000  \n",
       "50%     32.000000                  0.372500   29.000000    0.000000  \n",
       "75%     36.600000                  0.626250   41.000000    1.000000  \n",
       "max     67.100000                  2.420000   81.000000    1.000000  "
      ]
     },
     "execution_count": 8,
     "metadata": {},
     "output_type": "execute_result"
    }
   ],
   "source": [
    "# Evaluating for the statistical information on the data\n",
    "preg_diab_df.describe()"
   ]
  },
  {
   "cell_type": "code",
   "execution_count": 9,
   "id": "5d9843b5",
   "metadata": {},
   "outputs": [
    {
     "data": {
      "text/plain": [
       "0    500\n",
       "1    268\n",
       "Name: Outcome, dtype: int64"
      ]
     },
     "execution_count": 9,
     "metadata": {},
     "output_type": "execute_result"
    }
   ],
   "source": [
    "#Determining the value of target variable count avaialble for each class/label\n",
    "preg_diab_df[\"Outcome\"].value_counts()"
   ]
  },
  {
   "cell_type": "code",
   "execution_count": 10,
   "id": "a3fd5b52",
   "metadata": {},
   "outputs": [],
   "source": [
    "# Label Reference\n",
    "# 0 label referes to the non-diabetic prediction\n",
    "# 1 label refers to the diabetic prediction"
   ]
  },
  {
   "cell_type": "markdown",
   "id": "a015c047",
   "metadata": {},
   "source": [
    "## 4. Normalization of the data through mean normalization in each column"
   ]
  },
  {
   "cell_type": "code",
   "execution_count": 11,
   "id": "43b54ec1",
   "metadata": {},
   "outputs": [
    {
     "data": {
      "text/plain": [
       "Pregnancies                   3.845052\n",
       "Glucose                     120.894531\n",
       "BloodPressure                69.105469\n",
       "SkinThickness                20.536458\n",
       "Insulin                      79.799479\n",
       "BMI                          31.992578\n",
       "DiabetesPedigreeFunction      0.471876\n",
       "Age                          33.240885\n",
       "Outcome                       0.348958\n",
       "dtype: float64"
      ]
     },
     "execution_count": 11,
     "metadata": {},
     "output_type": "execute_result"
    }
   ],
   "source": [
    "#checking the mean value in each cloumn\n",
    "preg_diab_df.mean()"
   ]
  },
  {
   "cell_type": "code",
   "execution_count": 15,
   "id": "26d76777",
   "metadata": {},
   "outputs": [
    {
     "data": {
      "text/html": [
       "<div>\n",
       "<style scoped>\n",
       "    .dataframe tbody tr th:only-of-type {\n",
       "        vertical-align: middle;\n",
       "    }\n",
       "\n",
       "    .dataframe tbody tr th {\n",
       "        vertical-align: top;\n",
       "    }\n",
       "\n",
       "    .dataframe thead th {\n",
       "        text-align: right;\n",
       "    }\n",
       "</style>\n",
       "<table border=\"1\" class=\"dataframe\">\n",
       "  <thead>\n",
       "    <tr style=\"text-align: right;\">\n",
       "      <th></th>\n",
       "      <th>Pregnancies</th>\n",
       "      <th>Glucose</th>\n",
       "      <th>BloodPressure</th>\n",
       "      <th>SkinThickness</th>\n",
       "      <th>Insulin</th>\n",
       "      <th>BMI</th>\n",
       "      <th>DiabetesPedigreeFunction</th>\n",
       "      <th>Age</th>\n",
       "    </tr>\n",
       "    <tr>\n",
       "      <th>Outcome</th>\n",
       "      <th></th>\n",
       "      <th></th>\n",
       "      <th></th>\n",
       "      <th></th>\n",
       "      <th></th>\n",
       "      <th></th>\n",
       "      <th></th>\n",
       "      <th></th>\n",
       "    </tr>\n",
       "  </thead>\n",
       "  <tbody>\n",
       "    <tr>\n",
       "      <th>0</th>\n",
       "      <td>3.298000</td>\n",
       "      <td>109.980000</td>\n",
       "      <td>68.184000</td>\n",
       "      <td>19.664000</td>\n",
       "      <td>68.792000</td>\n",
       "      <td>30.304200</td>\n",
       "      <td>0.429734</td>\n",
       "      <td>31.190000</td>\n",
       "    </tr>\n",
       "    <tr>\n",
       "      <th>1</th>\n",
       "      <td>4.865672</td>\n",
       "      <td>141.257463</td>\n",
       "      <td>70.824627</td>\n",
       "      <td>22.164179</td>\n",
       "      <td>100.335821</td>\n",
       "      <td>35.142537</td>\n",
       "      <td>0.550500</td>\n",
       "      <td>37.067164</td>\n",
       "    </tr>\n",
       "  </tbody>\n",
       "</table>\n",
       "</div>"
      ],
      "text/plain": [
       "         Pregnancies     Glucose  BloodPressure  SkinThickness     Insulin  \\\n",
       "Outcome                                                                      \n",
       "0           3.298000  109.980000      68.184000      19.664000   68.792000   \n",
       "1           4.865672  141.257463      70.824627      22.164179  100.335821   \n",
       "\n",
       "               BMI  DiabetesPedigreeFunction        Age  \n",
       "Outcome                                                  \n",
       "0        30.304200                  0.429734  31.190000  \n",
       "1        35.142537                  0.550500  37.067164  "
      ]
     },
     "execution_count": 15,
     "metadata": {},
     "output_type": "execute_result"
    }
   ],
   "source": [
    "#obtaining the mean value grouped by the outcome labels\n",
    "preg_diab_df.groupby(\"Outcome\").mean()"
   ]
  },
  {
   "cell_type": "code",
   "execution_count": 17,
   "id": "f447f12c",
   "metadata": {},
   "outputs": [],
   "source": [
    "#Obtain all the data without the prediction cloumn\n",
    "preg_diab_df_X= preg_diab_df.drop(columns=\"Outcome\",axis=1)\n",
    "y=preg_diab_df[\"Outcome\"]"
   ]
  },
  {
   "cell_type": "code",
   "execution_count": 18,
   "id": "b77bd8a0",
   "metadata": {},
   "outputs": [
    {
     "name": "stdout",
     "output_type": "stream",
     "text": [
      "Optimization terminated successfully.\n",
      "         Current function value: 0.608498\n",
      "         Iterations 5\n",
      "                             Results: Logit\n",
      "========================================================================\n",
      "Model:                 Logit              Pseudo R-squared:   0.059     \n",
      "Dependent Variable:    Outcome            AIC:                950.6528  \n",
      "Date:                  2023-04-25 18:49   BIC:                987.8031  \n",
      "No. Observations:      768                Log-Likelihood:     -467.33   \n",
      "Df Model:              7                  LL-Null:            -496.74   \n",
      "Df Residuals:          760                LLR p-value:        2.5825e-10\n",
      "Converged:             1.0000             Scale:              1.0000    \n",
      "No. Iterations:        5.0000                                           \n",
      "------------------------------------------------------------------------\n",
      "                          Coef.  Std.Err.    z    P>|z|   [0.025  0.975]\n",
      "------------------------------------------------------------------------\n",
      "Pregnancies               0.1284   0.0286  4.4843 0.0000  0.0723  0.1845\n",
      "Glucose                   0.0129   0.0027  4.7568 0.0000  0.0076  0.0183\n",
      "BloodPressure            -0.0303   0.0047 -6.4806 0.0000 -0.0395 -0.0212\n",
      "SkinThickness             0.0002   0.0061  0.0323 0.9742 -0.0117  0.0121\n",
      "Insulin                   0.0007   0.0008  0.9420 0.3462 -0.0008  0.0023\n",
      "BMI                      -0.0048   0.0107 -0.4494 0.6531 -0.0258  0.0162\n",
      "DiabetesPedigreeFunction  0.3203   0.2399  1.3351 0.1818 -0.1499  0.7905\n",
      "Age                      -0.0156   0.0084 -1.8517 0.0641 -0.0322  0.0009\n",
      "========================================================================\n",
      "\n"
     ]
    }
   ],
   "source": [
    "svm_model = sm.Logit(y,preg_diab_df_X)\n",
    "res = svm_model.fit()\n",
    "print(res.summary2())"
   ]
  },
  {
   "cell_type": "code",
   "execution_count": 19,
   "id": "5293a942",
   "metadata": {},
   "outputs": [],
   "source": [
    "#Dropping the columns with p values greater 0.05\n",
    "\n",
    "preg_diab_df_X = preg_diab_df_X.drop([\"DiabetesPedigreeFunction\"], axis=1)"
   ]
  },
  {
   "cell_type": "code",
   "execution_count": 20,
   "id": "1380d2ab",
   "metadata": {},
   "outputs": [
    {
     "name": "stdout",
     "output_type": "stream",
     "text": [
      "     Pregnancies  Glucose  BloodPressure  SkinThickness  Insulin   BMI  Age\n",
      "0              6      148             72             35        0  33.6   50\n",
      "1              1       85             66             29        0  26.6   31\n",
      "2              8      183             64              0        0  23.3   32\n",
      "3              1       89             66             23       94  28.1   21\n",
      "4              0      137             40             35      168  43.1   33\n",
      "..           ...      ...            ...            ...      ...   ...  ...\n",
      "763           10      101             76             48      180  32.9   63\n",
      "764            2      122             70             27        0  36.8   27\n",
      "765            5      121             72             23      112  26.2   30\n",
      "766            1      126             60              0        0  30.1   47\n",
      "767            1       93             70             31        0  30.4   23\n",
      "\n",
      "[768 rows x 7 columns]\n"
     ]
    }
   ],
   "source": [
    "print(preg_diab_df_X)"
   ]
  },
  {
   "cell_type": "code",
   "execution_count": 21,
   "id": "48ecddee",
   "metadata": {},
   "outputs": [
    {
     "name": "stdout",
     "output_type": "stream",
     "text": [
      "0      1\n",
      "1      0\n",
      "2      1\n",
      "3      0\n",
      "4      1\n",
      "      ..\n",
      "763    0\n",
      "764    0\n",
      "765    0\n",
      "766    1\n",
      "767    0\n",
      "Name: Outcome, Length: 768, dtype: int64\n"
     ]
    }
   ],
   "source": [
    "print(y)"
   ]
  },
  {
   "cell_type": "code",
   "execution_count": 22,
   "id": "98de92c7",
   "metadata": {},
   "outputs": [
    {
     "name": "stdout",
     "output_type": "stream",
     "text": [
      "     Pregnancies   Glucose  BloodPressure  SkinThickness   Insulin       BMI  \\\n",
      "0       0.033553  0.827630       0.402631       0.195723  0.000000  0.187894   \n",
      "1       0.008424  0.716043       0.555987       0.244297  0.000000  0.224079   \n",
      "2       0.040398  0.924102       0.323183       0.000000  0.000000  0.117659   \n",
      "3       0.006612  0.588468       0.436392       0.152076  0.621528  0.185797   \n",
      "4       0.000000  0.596416       0.174136       0.152369  0.731371  0.187632   \n",
      "..           ...       ...            ...            ...       ...       ...   \n",
      "763     0.042321  0.427443       0.321640       0.203141  0.761780  0.139236   \n",
      "764     0.013304  0.811528       0.465631       0.179600  0.000000  0.244789   \n",
      "765     0.026915  0.651353       0.387582       0.123811  0.602905  0.141037   \n",
      "766     0.006653  0.838288       0.399185       0.000000  0.000000  0.200258   \n",
      "767     0.007915  0.736054       0.554019       0.245351  0.000000  0.240603   \n",
      "\n",
      "          Age  \n",
      "0    0.279605  \n",
      "1    0.261145  \n",
      "2    0.161592  \n",
      "3    0.138852  \n",
      "4    0.143662  \n",
      "..        ...  \n",
      "763  0.266623  \n",
      "764  0.179600  \n",
      "765  0.161492  \n",
      "766  0.312695  \n",
      "767  0.182035  \n",
      "\n",
      "[768 rows x 7 columns]\n"
     ]
    }
   ],
   "source": [
    "d = preprocessing.normalize(preg_diab_df_X)\n",
    "preg_diab_normalized_df = pd.DataFrame(d, columns=preg_diab_df_X.columns)\n",
    "print(preg_diab_normalized_df)"
   ]
  },
  {
   "cell_type": "markdown",
   "id": "36a90186",
   "metadata": {},
   "source": [
    "## 5. Standardization of data"
   ]
  },
  {
   "cell_type": "code",
   "execution_count": 23,
   "id": "9da0f531",
   "metadata": {},
   "outputs": [],
   "source": [
    "std_scaler=StandardScaler()"
   ]
  },
  {
   "cell_type": "code",
   "execution_count": 24,
   "id": "28461a4c",
   "metadata": {},
   "outputs": [
    {
     "data": {
      "text/plain": [
       "StandardScaler()"
      ]
     },
     "execution_count": 24,
     "metadata": {},
     "output_type": "execute_result"
    }
   ],
   "source": [
    "std_scaler.fit(preg_diab_df_X)"
   ]
  },
  {
   "cell_type": "code",
   "execution_count": 25,
   "id": "351ca18b",
   "metadata": {},
   "outputs": [],
   "source": [
    "std_data = std_scaler.transform(preg_diab_df_X)"
   ]
  },
  {
   "cell_type": "code",
   "execution_count": 26,
   "id": "8c17c7d6",
   "metadata": {},
   "outputs": [
    {
     "name": "stdout",
     "output_type": "stream",
     "text": [
      "[[ 0.63994726  0.84832379  0.14964075 ... -0.69289057  0.20401277\n",
      "   1.4259954 ]\n",
      " [-0.84488505 -1.12339636 -0.16054575 ... -0.69289057 -0.68442195\n",
      "  -0.19067191]\n",
      " [ 1.23388019  1.94372388 -0.26394125 ... -0.69289057 -1.10325546\n",
      "  -0.10558415]\n",
      " ...\n",
      " [ 0.3429808   0.00330087  0.14964075 ...  0.27959377 -0.73518964\n",
      "  -0.27575966]\n",
      " [-0.84488505  0.1597866  -0.47073225 ... -0.69289057 -0.24020459\n",
      "   1.17073215]\n",
      " [-0.84488505 -0.8730192   0.04624525 ... -0.69289057 -0.20212881\n",
      "  -0.87137393]]\n"
     ]
    }
   ],
   "source": [
    "print(std_data)"
   ]
  },
  {
   "cell_type": "code",
   "execution_count": 27,
   "id": "22ce08b9",
   "metadata": {},
   "outputs": [],
   "source": [
    "X=std_data\n",
    "y=preg_diab_df[\"Outcome\"]"
   ]
  },
  {
   "cell_type": "code",
   "execution_count": 28,
   "id": "afb53b57",
   "metadata": {},
   "outputs": [
    {
     "name": "stdout",
     "output_type": "stream",
     "text": [
      "[[ 0.63994726  0.84832379  0.14964075 ... -0.69289057  0.20401277\n",
      "   1.4259954 ]\n",
      " [-0.84488505 -1.12339636 -0.16054575 ... -0.69289057 -0.68442195\n",
      "  -0.19067191]\n",
      " [ 1.23388019  1.94372388 -0.26394125 ... -0.69289057 -1.10325546\n",
      "  -0.10558415]\n",
      " ...\n",
      " [ 0.3429808   0.00330087  0.14964075 ...  0.27959377 -0.73518964\n",
      "  -0.27575966]\n",
      " [-0.84488505  0.1597866  -0.47073225 ... -0.69289057 -0.24020459\n",
      "   1.17073215]\n",
      " [-0.84488505 -0.8730192   0.04624525 ... -0.69289057 -0.20212881\n",
      "  -0.87137393]]\n",
      "0      1\n",
      "1      0\n",
      "2      1\n",
      "3      0\n",
      "4      1\n",
      "      ..\n",
      "763    0\n",
      "764    0\n",
      "765    0\n",
      "766    1\n",
      "767    0\n",
      "Name: Outcome, Length: 768, dtype: int64\n"
     ]
    }
   ],
   "source": [
    "print(X)\n",
    "print(y)"
   ]
  },
  {
   "cell_type": "markdown",
   "id": "80041461",
   "metadata": {},
   "source": [
    "## 6. Split the dataset for testing and training"
   ]
  },
  {
   "cell_type": "code",
   "execution_count": 29,
   "id": "0f4a82aa",
   "metadata": {},
   "outputs": [],
   "source": [
    "X_train,X_test,y_train,y_test=train_test_split(X,y,test_size=0.2,stratify=y, random_state=2)"
   ]
  },
  {
   "cell_type": "code",
   "execution_count": 30,
   "id": "f5c6de20",
   "metadata": {},
   "outputs": [
    {
     "name": "stdout",
     "output_type": "stream",
     "text": [
      "(768, 7) (614, 7) (154, 7)\n"
     ]
    }
   ],
   "source": [
    "print(X.shape,X_train.shape,X_test.shape) "
   ]
  },
  {
   "cell_type": "markdown",
   "id": "aafe0784",
   "metadata": {},
   "source": [
    "## 7. Train the classifier_model using the Support Vector Machine Algorithm"
   ]
  },
  {
   "cell_type": "code",
   "execution_count": 31,
   "id": "f4a795fd",
   "metadata": {},
   "outputs": [],
   "source": [
    "classifier_model=svm.SVC(kernel='linear')"
   ]
  },
  {
   "cell_type": "code",
   "execution_count": 32,
   "id": "9790d7ba",
   "metadata": {},
   "outputs": [
    {
     "data": {
      "text/plain": [
       "SVC(kernel='linear')"
      ]
     },
     "execution_count": 32,
     "metadata": {},
     "output_type": "execute_result"
    }
   ],
   "source": [
    "classifier_model.fit(X_train,y_train)"
   ]
  },
  {
   "cell_type": "markdown",
   "id": "14cfec32",
   "metadata": {},
   "source": [
    "## 8. Evaluate the classifier_model"
   ]
  },
  {
   "cell_type": "code",
   "execution_count": 33,
   "id": "7a2abb56",
   "metadata": {},
   "outputs": [
    {
     "name": "stdout",
     "output_type": "stream",
     "text": [
      "Taining dataset Accuracy Score : 77.36 %\n"
     ]
    }
   ],
   "source": [
    "# training set accuracy\n",
    "\n",
    "X_train_prediction=classifier_model.predict(X_train)\n",
    "training_data_accuracy=accuracy_score(y_train,X_train_prediction)\n",
    "training_accuracy_percentage = round((training_data_accuracy * 100),2)\n",
    "print(f\"Taining dataset Accuracy Score : {training_accuracy_percentage} %\")"
   ]
  },
  {
   "cell_type": "code",
   "execution_count": 34,
   "id": "c60159d3",
   "metadata": {},
   "outputs": [
    {
     "name": "stdout",
     "output_type": "stream",
     "text": [
      "Testing dataset Accuracy Score : 75.32 %\n"
     ]
    }
   ],
   "source": [
    "# testing set accuracy\n",
    "\n",
    "X_test_prediction=classifier_model.predict(X_test)\n",
    "testing_data_accuracy=accuracy_score(y_test,X_test_prediction)\n",
    "testing_accuracy_percentage = round((testing_data_accuracy * 100),2)\n",
    "print(f\"Testing dataset Accuracy Score : {testing_accuracy_percentage} %\")"
   ]
  },
  {
   "cell_type": "code",
   "execution_count": 35,
   "id": "2b6bf6fb",
   "metadata": {},
   "outputs": [
    {
     "name": "stdout",
     "output_type": "stream",
     "text": [
      "              precision    recall  f1-score   support\n",
      "\n",
      "           0       0.77      0.89      0.82       100\n",
      "           1       0.71      0.50      0.59        54\n",
      "\n",
      "    accuracy                           0.75       154\n",
      "   macro avg       0.74      0.70      0.71       154\n",
      "weighted avg       0.75      0.75      0.74       154\n",
      "\n"
     ]
    }
   ],
   "source": [
    "print(classification_report(y_test, X_test_prediction))"
   ]
  },
  {
   "cell_type": "markdown",
   "id": "02ccf702",
   "metadata": {},
   "source": [
    "## 9. Plot the classifier graph"
   ]
  },
  {
   "cell_type": "code",
   "execution_count": 36,
   "id": "6fb87b8a",
   "metadata": {},
   "outputs": [
    {
     "data": {
      "image/png": "[encoded data removed]",
      "text/plain": [
       "<Figure size 640x480 with 1 Axes>"
      ]
     },
     "metadata": {},
     "output_type": "display_data"
    }
   ],
   "source": [
    "#plotting the data avaialable initially\n",
    "X_axis_data_column_zero= X_train[:,0]\n",
    "X_axis_data_column_one = X_train[:,1]\n",
    "\n",
    "plt.scatter(X_axis_data_column_zero, X_axis_data_column_one)\n",
    "plt.title('Current Avaialble Vectors')\n",
    "plt.xlabel('Variable X_1')\n",
    "plt.ylabel('Variable X_2')\n",
    "plt.show()"
   ]
  },
  {
   "cell_type": "code",
   "execution_count": 37,
   "id": "480956eb",
   "metadata": {},
   "outputs": [
    {
     "data": {
      "image/png": "[encoded data removed]",
      "text/plain": [
       "<Figure size 640x480 with 2 Axes>"
      ]
     },
     "metadata": {},
     "output_type": "display_data"
    }
   ],
   "source": [
    "# Plotting of the matrix containing the confusion\n",
    "X_test_set =X_test\n",
    "Y_test_set =y_test\n",
    "\n",
    "matrix = plot_confusion_matrix(classifier_model, X_test_set, Y_test_set,\n",
    "                                 cmap=plt.cm.Greens,\n",
    "                                 normalize='true')\n",
    "plt.title('Matrix of Confusion for Diabetes Prediction Model')\n",
    "plt.show(matrix)\n",
    "plt.show()"
   ]
  },
  {
   "cell_type": "code",
   "execution_count": 38,
   "id": "047e93e7",
   "metadata": {},
   "outputs": [
    {
     "data": {
      "image/png": "[encoded data removed]",
      "text/plain": [
       "<Figure size 640x480 with 1 Axes>"
      ]
     },
     "metadata": {},
     "output_type": "display_data"
    }
   ],
   "source": [
    "# Identification of possible support vectors\n",
    "available_svs = classifier_model.support_vectors_\n",
    "\n",
    "# Visualizing the support vectors identified\n",
    "X_axis_data_column_zero= X_train[:,0]\n",
    "X_axis_data_column_one = X_train[:,1]\n",
    "plt.scatter(X_axis_data_column_zero, X_axis_data_column_one, color=\"green\")\n",
    "\n",
    "support_vectors_data_column_zero = available_svs[:,0]\n",
    "support_vectors_column_one = available_svs[:,1]\n",
    "plt.scatter(support_vectors_data_column_zero,support_vectors_column_one, color='yellow')\n",
    "\n",
    "\n",
    "plt.title('Presence of Support Vectors in the DataSet')\n",
    "plt.xlabel('Variable X_1')\n",
    "plt.ylabel('Variable X_2')\n",
    "plt.show()"
   ]
  },
  {
   "cell_type": "code",
   "execution_count": 39,
   "id": "46bfed68",
   "metadata": {},
   "outputs": [
    {
     "data": {
      "image/png": "[encoded data removed]",
      "text/plain": [
       "<Figure size 600x400 with 1 Axes>"
      ]
     },
     "metadata": {},
     "output_type": "display_data"
    }
   ],
   "source": [
    "import seaborn as sns\n",
    "\n",
    "plt.figure(figsize=(6, 4))\n",
    "\n",
    "# Visualizing of the 2-D vector space\n",
    "sns.scatterplot(x=X_axis_data_column_zero, \n",
    "                y=X_axis_data_column_one, \n",
    "                hue=y_train, \n",
    "                s=8);\n",
    "\n",
    "# Generation of the hyperplane for the data\n",
    "w = classifier_model.coef_[0]         \n",
    "b = classifier_model.intercept_[0]      \n",
    "x_data_points = np.linspace(-1, 1)    \n",
    "y_data_points = -(w[0] / w[1]) * x_data_points - b / w[1] \n",
    "\n",
    "# Plot the hyperplane in black color\n",
    "plt.plot(x_data_points, y_data_points, color='black');\n"
   ]
  },
  {
   "cell_type": "code",
   "execution_count": null,
   "id": "04a87bb8",
   "metadata": {},
   "outputs": [],
   "source": []
  }
 ],
 "metadata": {
  "kernelspec": {
   "display_name": "Python 3 (ipykernel)",
   "language": "python",
   "name": "python3"
  },
  "language_info": {
   "codemirror_mode": {
    "name": "ipython",
    "version": 3
   },
   "file_extension": ".py",
   "mimetype": "text/x-python",
   "name": "python",
   "nbconvert_exporter": "python",
   "pygments_lexer": "ipython3",
   "version": "3.9.13"
  }
 },
 "nbformat": 4,
 "nbformat_minor": 5
}
